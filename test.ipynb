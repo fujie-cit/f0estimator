{
 "cells": [
  {
   "cell_type": "code",
   "execution_count": 1,
   "metadata": {},
   "outputs": [],
   "source": [
    "import torch\n",
    "\n",
    "from espnet2.train.dataset import ESPnetDataset\n",
    "from preprocess import F0DataNormalizer"
   ]
  },
  {
   "cell_type": "code",
   "execution_count": 2,
   "metadata": {},
   "outputs": [],
   "source": [
    "dataset = ESPnetDataset([\n",
    "    (\"dump/raw/train_nodup/wav.scp\", \"wav\", \"sound\"),\n",
    "    (\"f0data/train_nodup/f0data.scp\", \"f0data\", \"npy\"),\n",
    "])"
   ]
  },
  {
   "cell_type": "code",
   "execution_count": 3,
   "metadata": {},
   "outputs": [],
   "source": [
    "f0data_normalizer = F0DataNormalizer(\"f0data/train_nodup/f0data_stats.txt\")"
   ]
  },
  {
   "cell_type": "code",
   "execution_count": 4,
   "metadata": {},
   "outputs": [],
   "source": [
    "f0data = dataset[0][1][\"f0data\"]"
   ]
  },
  {
   "cell_type": "code",
   "execution_count": 5,
   "metadata": {},
   "outputs": [],
   "source": [
    "f0data_torch = torch.from_numpy(f0data).float()\n",
    "f0data_torch = f0data_torch.unsqueeze(0)"
   ]
  },
  {
   "cell_type": "code",
   "execution_count": 12,
   "metadata": {},
   "outputs": [
    {
     "data": {
      "text/plain": [
       "tensor([[[ 2.4349, -1.8475,  2.5603],\n",
       "         [ 1.9274, -0.0435,  1.9194],\n",
       "         [ 1.7130, -0.0869,  1.7486]]])"
      ]
     },
     "execution_count": 12,
     "metadata": {},
     "output_type": "execute_result"
    }
   ],
   "source": [
    "f0data_normalized = f0data_normalizer.normalize(f0data_torch)\n",
    "f0data_normalized[:, :3, :]"
   ]
  },
  {
   "cell_type": "code",
   "execution_count": 13,
   "metadata": {},
   "outputs": [
    {
     "data": {
      "text/plain": [
       "tensor([[[ 5.4478, -0.0631,  5.4555],\n",
       "         [ 5.3559, -0.0073,  5.3427],\n",
       "         [ 5.3170, -0.0086,  5.3126]]])"
      ]
     },
     "execution_count": 13,
     "metadata": {},
     "output_type": "execute_result"
    }
   ],
   "source": [
    "f0data_denom = f0data_normalizer.denormalize(f0data_normalized)\n",
    "f0data_denom[:, :3, :]"
   ]
  }
 ],
 "metadata": {
  "kernelspec": {
   "display_name": "espnet-study",
   "language": "python",
   "name": "python3"
  },
  "language_info": {
   "codemirror_mode": {
    "name": "ipython",
    "version": 3
   },
   "file_extension": ".py",
   "mimetype": "text/x-python",
   "name": "python",
   "nbconvert_exporter": "python",
   "pygments_lexer": "ipython3",
   "version": "3.10.13"
  }
 },
 "nbformat": 4,
 "nbformat_minor": 2
}
