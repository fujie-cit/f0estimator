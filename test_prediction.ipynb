{
 "cells": [
  {
   "cell_type": "code",
   "execution_count": 1,
   "metadata": {},
   "outputs": [],
   "source": [
    "from espnet2.asr.frontend.default import DefaultFrontend\n",
    "from preprocess import F0DataNormalizer\n",
    "from espnet2.train.dataset import ESPnetDataset\n",
    "\n",
    "import soundfile as sf\n",
    "import torch\n",
    "\n",
    "from model import F0EstimationModel\n"
   ]
  },
  {
   "cell_type": "code",
   "execution_count": 2,
   "metadata": {},
   "outputs": [],
   "source": [
    "frontend = DefaultFrontend(\n",
    "    fs=16000,\n",
    "    n_fft=1024,\n",
    "    hop_length=128,\n",
    "    win_length=800,\n",
    "    n_mels=160,\n",
    ")"
   ]
  },
  {
   "cell_type": "code",
   "execution_count": 3,
   "metadata": {},
   "outputs": [],
   "source": [
    "f0data_stats_filename = \"f0data/train_nodup/f0data_stats.txt\"\n",
    "f0data_normalizer = F0DataNormalizer(f0data_stats_filename)"
   ]
  },
  {
   "cell_type": "code",
   "execution_count": 4,
   "metadata": {},
   "outputs": [
    {
     "data": {
      "text/plain": [
       "<All keys matched successfully>"
      ]
     },
     "execution_count": 4,
     "metadata": {},
     "output_type": "execute_result"
    }
   ],
   "source": [
    "# model_file_name = \"exp/exp1/model_42500_.pth\"\n",
    "model_file_name = \"exp/exp2/model_test.pth\"\n",
    "\n",
    "model = F0EstimationModel()\n",
    "model.load_state_dict(torch.load(model_file_name, map_location=torch.device('cpu')))"
   ]
  },
  {
   "cell_type": "code",
   "execution_count": 5,
   "metadata": {},
   "outputs": [],
   "source": [
    "dataset = ESPnetDataset([(\"./dump/raw/eval1/wav.scp\", \"wav\", \"sound\")])\n",
    "# dataset = ESPnetDataset([(\"./dump/raw/train_dev/wav.scp\", \"wav\", \"sound\")])\n",
    "wav = dataset[101][1][\"wav\"]\n"
   ]
  },
  {
   "cell_type": "code",
   "execution_count": 6,
   "metadata": {},
   "outputs": [],
   "source": [
    "wav_torch = torch.tensor(wav).float()\n",
    "wav_torch = wav_torch.unsqueeze(0)\n",
    "wav_lengths = torch.tensor([wav_torch.shape[1]])"
   ]
  },
  {
   "cell_type": "code",
   "execution_count": 7,
   "metadata": {},
   "outputs": [],
   "source": [
    "inputs, input_lengths = frontend(wav_torch, wav_lengths)"
   ]
  },
  {
   "cell_type": "code",
   "execution_count": 8,
   "metadata": {},
   "outputs": [],
   "source": [
    "with torch.no_grad():\n",
    "    model.eval()\n",
    "    f0n, df0n, vuv, output_lengths = model(inputs, input_lengths)"
   ]
  },
  {
   "cell_type": "code",
   "execution_count": 9,
   "metadata": {},
   "outputs": [],
   "source": [
    "# f0n"
   ]
  },
  {
   "cell_type": "code",
   "execution_count": 10,
   "metadata": {},
   "outputs": [],
   "source": [
    "f0data = f0data_normalizer.denormalize(torch.stack([f0n, df0n, f0n], dim=2))\n",
    "f0 = f0data[0, :, 2]\n",
    "df0 = f0data[0, :, 1]\n",
    "vuv = vuv[0]\n",
    "\n",
    "# f0data[0, :, 0] = f0data[0, :, 2]\n",
    "f0data[0, vuv < 0, 0] = 0\n",
    "# f0data[0, vuv < 0, 2] = 0"
   ]
  },
  {
   "cell_type": "code",
   "execution_count": 11,
   "metadata": {},
   "outputs": [
    {
     "data": {
      "text/plain": [
       "tensor([[[ 5.1619e+00, -2.2995e-02,  5.1625e+00],\n",
       "         [ 5.0175e+00, -3.1258e-02,  5.0158e+00],\n",
       "         [ 4.9848e+00,  4.6828e-03,  4.9826e+00],\n",
       "         [ 5.0089e+00,  8.0411e-03,  5.0071e+00],\n",
       "         [ 5.0214e+00,  2.0768e-03,  5.0198e+00],\n",
       "         [ 5.0007e+00, -2.9769e-03,  4.9988e+00],\n",
       "         [ 4.9853e+00, -4.3997e-03,  4.9831e+00],\n",
       "         [ 4.9828e+00,  4.9328e-03,  4.9806e+00],\n",
       "         [ 4.9869e+00,  1.5032e-03,  4.9848e+00],\n",
       "         [ 5.0095e+00, -3.9062e-03,  5.0077e+00]]])"
      ]
     },
     "execution_count": 11,
     "metadata": {},
     "output_type": "execute_result"
    }
   ],
   "source": [
    "f0data"
   ]
  },
  {
   "cell_type": "code",
   "execution_count": 12,
   "metadata": {},
   "outputs": [],
   "source": [
    "# f0"
   ]
  },
  {
   "cell_type": "code",
   "execution_count": 13,
   "metadata": {},
   "outputs": [],
   "source": [
    "import matplotlib.pyplot as plt\n",
    "import librosa\n",
    "import numpy as np\n",
    "import math"
   ]
  },
  {
   "cell_type": "code",
   "execution_count": 14,
   "metadata": {},
   "outputs": [],
   "source": [
    "# スペクトルなどを表示するプログラム\n",
    "def hz_to_mel_index(freq, n_mels=80, fmin=0, fmax=8000, htk=False):\n",
    "    \"\"\"周波数からメルチャネルのインデクス（実数値）を計算する．\n",
    "\n",
    "    Args:\n",
    "        freq (float or iterable): 周波数 [Hz] またはそのリスト\n",
    "        n_mels (int): メルフィルタバンクの数\n",
    "        fmin (float): メルスペクトログラムの最低周波数 [Hz]\n",
    "        fmax (float): メルスペクトログラムの最大周波数 [Hz]\n",
    "        htk (bool): HTK メルフィルタバンクを使うかどうか\n",
    "    \n",
    "    Returns:\n",
    "        float or list: メルチャネルのインデクス（実数値）またはそのリスト\n",
    "    \"\"\"  \n",
    "    def single_hz_to_mel_index(freq):\n",
    "        if freq <= 0:\n",
    "            return 0\n",
    "        if freq > fmax:\n",
    "            return n_mels\n",
    "        mel_min = librosa.hz_to_mel(fmin, htk=htk)\n",
    "        mel_max = librosa.hz_to_mel(fmax, htk=htk)\n",
    "        mel = librosa.hz_to_mel(freq, htk=htk)\n",
    "        idx = (mel - mel_min) / (mel_max - mel_min) * n_mels\n",
    "        return idx\n",
    "\n",
    "    if hasattr(freq, '__iter__'):\n",
    "        return [single_hz_to_mel_index(f) for f in freq]\n",
    "    else:\n",
    "        return single_hz_to_mel_index(freq)"
   ]
  },
  {
   "cell_type": "code",
   "execution_count": 15,
   "metadata": {},
   "outputs": [],
   "source": [
    "def show_mel_spectrogram(mel, ax, cmap=\"viridis\", sr=16000, hop_length=160, fmin=0, fmax=8000, htk=False, show_xaxis=True):\n",
    "    \"\"\"メルスペクトログラムを表示する．\n",
    "\n",
    "    Args:\n",
    "        mel (numpy.ndarray): メルスペクトログラム\n",
    "        ax (matplotlib.axes.Axes): 表示する Axes\n",
    "        cmap (str): カラーマップ\n",
    "        sr (int): サンプリング周波数 [Hz]\n",
    "        hop_length (int): フレームの間隔\n",
    "        fmin (float): メルスペクトログラムの最低周波数 [Hz]\n",
    "        fmax (float): メルスペクトログラムの最大周波数 [Hz]\n",
    "        htk (bool): HTK メルフィルタバンクを使うかどうか\n",
    "    \"\"\"    \n",
    "    ax.imshow(mel, aspect=\"auto\", origin=\"lower\", cmap=cmap, interpolation='none',\n",
    "              extent=(0, mel.shape[1]*hop_length/sr, 0, mel.shape[0]))\n",
    "    \n",
    "    n_mel = mel.shape[0]\n",
    "    \n",
    "    yticks_labels = [0] + [2**i for i in range(8, int(math.log2(sr/2))+1)] + [int(sr / 2)]\n",
    "    yticks_possitions = hz_to_mel_index(yticks_labels, n_mel, fmax=sr / 2, htk=htk)\n",
    "\n",
    "    ax.set_yticks(yticks_possitions, labels=yticks_labels)\n",
    "    ax.set_ylim([0, n_mel])\n",
    "    ax.set_ylabel(\"Frequency [Hz]\")\n",
    "    \n",
    "    if show_xaxis:\n",
    "        ax.set_xlabel(\"Time [sec]\")\n",
    "    else:\n",
    "        ax.set_xticks([])"
   ]
  },
  {
   "cell_type": "code",
   "execution_count": 16,
   "metadata": {},
   "outputs": [],
   "source": [
    "def plot_processed_f0(f0, processed_f0, ax, fs=16000, hop_length=128, num_sub=4):\n",
    "    pr = hop_length / fs # フレーム間隔\n",
    "    t = np.arange(f0.shape[0]) * hop_length / fs    \n",
    "\n",
    "    pp = hop_length / fs * num_sub # サブサンプル後のフレーム間隔\n",
    "    tp = (np.arange(processed_f0.shape[0]) + 0.5) * pp\n",
    "\n",
    "    ax.plot(t, f0, 'k-', linewidth=0.5, label=\"raw f0\")\n",
    "    ax.plot(tp, processed_f0[:, 0], 'o', color='none', markeredgecolor='k', label=\"processed f0\")\n",
    "    for i in range(processed_f0.shape[0]):\n",
    "        if processed_f0[i, 1] != 0:\n",
    "            a = processed_f0[i, 1] # 傾き\n",
    "            b = processed_f0[i, 2] # 切片\n",
    "            if b <= 0:\n",
    "                continue\n",
    "            xx = [tp[i] - pp * 0.4, tp[i] + pp * 0.4]\n",
    "            yy = [a * -0.4 + b, a * 0.4 + b]\n",
    "            if a >= 0:\n",
    "                ax.plot(xx, yy, 'r-')\n",
    "            else:\n",
    "                ax.plot(xx, yy, 'b-')\n",
    "    ax.set_ylim([math.log(50), math.log(700)])\n",
    "    ax.set_ylabel(\"log F0\")\n",
    "    ax.set_xlabel(\"Time [sec]\")"
   ]
  },
  {
   "cell_type": "code",
   "execution_count": 17,
   "metadata": {},
   "outputs": [
    {
     "data": {
      "image/png": "[encoded data removed]",
      "text/plain": [
       "<Figure size 640x480 with 1 Axes>"
      ]
     },
     "metadata": {},
     "output_type": "display_data"
    }
   ],
   "source": [
    "show_mel_spectrogram(inputs[0].numpy().T, plt.gca())"
   ]
  },
  {
   "cell_type": "code",
   "execution_count": 18,
   "metadata": {},
   "outputs": [],
   "source": [
    "from espnet2.tts.feats_extract.dio import Dio \n",
    "# インスタンスの作成\n",
    "dio = Dio(\n",
    "    fs=16000,       # サンプリング周波数\n",
    "    n_fft=1024,     # FFT点数\n",
    "    hop_length=128, # フレームの間隔\n",
    "    use_token_averaged_f0=False, # トークンごとの代表F0使うか（今回の場合は常にFalse）\n",
    "    use_continuous_f0=False, # 連続的なF0を使うか（今回の場合は常にFalse）\n",
    "    use_log_f0=True # 対数F0を使うか\n",
    ")"
   ]
  },
  {
   "cell_type": "code",
   "execution_count": 19,
   "metadata": {},
   "outputs": [],
   "source": [
    "f0, f0_lengths = dio(wav_torch, wav_lengths)"
   ]
  },
  {
   "cell_type": "code",
   "execution_count": 20,
   "metadata": {},
   "outputs": [
    {
     "data": {
      "text/plain": [
       "tensor([[[0.0000],\n",
       "         [0.0000],\n",
       "         [0.0000],\n",
       "         [4.8641],\n",
       "         [4.9693],\n",
       "         [5.1400],\n",
       "         [4.9352],\n",
       "         [4.9983],\n",
       "         [4.9855],\n",
       "         [4.9997],\n",
       "         [5.0085],\n",
       "         [5.0050],\n",
       "         [5.0102],\n",
       "         [5.0200],\n",
       "         [5.0259],\n",
       "         [5.0304],\n",
       "         [5.0292],\n",
       "         [5.0309],\n",
       "         [5.0307],\n",
       "         [5.0289],\n",
       "         [5.0282],\n",
       "         [5.0220],\n",
       "         [5.0185],\n",
       "         [5.0095],\n",
       "         [5.0096],\n",
       "         [5.0060],\n",
       "         [5.0027],\n",
       "         [5.0020],\n",
       "         [4.9979],\n",
       "         [5.0011],\n",
       "         [5.0076],\n",
       "         [5.0087],\n",
       "         [5.0109],\n",
       "         [5.0129],\n",
       "         [5.0154],\n",
       "         [5.0109],\n",
       "         [5.0035],\n",
       "         [4.9950],\n",
       "         [4.9830],\n",
       "         [4.9350],\n",
       "         [4.9025],\n",
       "         [0.0000],\n",
       "         [0.0000],\n",
       "         [0.0000],\n",
       "         [0.0000]]])"
      ]
     },
     "execution_count": 20,
     "metadata": {},
     "output_type": "execute_result"
    }
   ],
   "source": [
    "f0"
   ]
  },
  {
   "cell_type": "code",
   "execution_count": 21,
   "metadata": {},
   "outputs": [
    {
     "data": {
      "image/png": "[encoded data removed]",
      "text/plain": [
       "<Figure size 640x480 with 1 Axes>"
      ]
     },
     "metadata": {},
     "output_type": "display_data"
    }
   ],
   "source": [
    "plot_processed_f0(f0[0].detach().numpy(), \n",
    "                  f0data[0].detach().numpy(), plt.gca())\n",
    "# plt.xlim([4, 5])"
   ]
  },
  {
   "cell_type": "code",
   "execution_count": 22,
   "metadata": {},
   "outputs": [
    {
     "data": {
      "text/plain": [
       "tensor([[ 5.0067, -0.0059,  5.0048]])"
      ]
     },
     "execution_count": 22,
     "metadata": {},
     "output_type": "execute_result"
    }
   ],
   "source": [
    "f0data_normalizer.f0data_mean"
   ]
  },
  {
   "cell_type": "code",
   "execution_count": 23,
   "metadata": {},
   "outputs": [
    {
     "data": {
      "text/plain": [
       "tensor([[0.6316, 0.0371, 0.6419]])"
      ]
     },
     "execution_count": 23,
     "metadata": {},
     "output_type": "execute_result"
    }
   ],
   "source": [
    "f0data_normalizer.f0data_std"
   ]
  },
  {
   "cell_type": "code",
   "execution_count": null,
   "metadata": {},
   "outputs": [],
   "source": []
  }
 ],
 "metadata": {
  "kernelspec": {
   "display_name": "espnet-study",
   "language": "python",
   "name": "python3"
  },
  "language_info": {
   "codemirror_mode": {
    "name": "ipython",
    "version": 3
   },
   "file_extension": ".py",
   "mimetype": "text/x-python",
   "name": "python",
   "nbconvert_exporter": "python",
   "pygments_lexer": "ipython3",
   "version": "3.10.13"
  }
 },
 "nbformat": 4,
 "nbformat_minor": 2
}
